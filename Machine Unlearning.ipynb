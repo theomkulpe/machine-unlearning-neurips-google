{
 "cells": [
  {
   "cell_type": "code",
   "execution_count": 1,
   "id": "1d316567",
   "metadata": {
    "_cell_guid": "b1076dfc-b9ad-4769-8c92-a6c4dae69d19",
    "_uuid": "8f2839f25d086af736a60e9eeb907d3b93b6e0e5",
    "execution": {
     "iopub.execute_input": "2023-11-27T17:38:52.884600Z",
     "iopub.status.busy": "2023-11-27T17:38:52.883475Z",
     "iopub.status.idle": "2023-11-27T17:38:53.290126Z",
     "shell.execute_reply": "2023-11-27T17:38:53.288848Z"
    },
    "papermill": {
     "duration": 0.414987,
     "end_time": "2023-11-27T17:38:53.292830",
     "exception": false,
     "start_time": "2023-11-27T17:38:52.877843",
     "status": "completed"
    },
    "tags": []
   },
   "outputs": [
    {
     "name": "stdout",
     "output_type": "stream",
     "text": [
      "/kaggle/input/neurips-2023-machine-unlearning/Machine_Unlearning_Notion_Metric.pdf\n",
      "/kaggle/input/neurips-2023-machine-unlearning/empty.txt\n"
     ]
    }
   ],
   "source": [
    "# This Python 3 environment comes with many helpful analytics libraries installed\n",
    "# It is defined by the kaggle/python Docker image: https://github.com/kaggle/docker-python\n",
    "# For example, here's several helpful packages to load\n",
    "\n",
    "import numpy as np # linear algebra\n",
    "import pandas as pd # data processing, CSV file I/O (e.g. pd.read_csv)\n",
    "\n",
    "# Input data files are available in the read-only \"../input/\" directory\n",
    "# For example, running this (by clicking run or pressing Shift+Enter) will list all files under the input directory\n",
    "\n",
    "import os\n",
    "for dirname, _, filenames in os.walk('/kaggle/input'):\n",
    "    for filename in filenames:\n",
    "        print(os.path.join(dirname, filename))\n",
    "\n",
    "# You can write up to 20GB to the current directory (/kaggle/working/) that gets preserved as output when you create a version using \"Save & Run All\" \n",
    "# You can also write temporary files to /kaggle/temp/, but they won't be saved outside of the current session"
   ]
  },
  {
   "cell_type": "code",
   "execution_count": 2,
   "id": "a1a52211",
   "metadata": {
    "execution": {
     "iopub.execute_input": "2023-11-27T17:38:53.303534Z",
     "iopub.status.busy": "2023-11-27T17:38:53.303045Z",
     "iopub.status.idle": "2023-11-27T17:38:56.942346Z",
     "shell.execute_reply": "2023-11-27T17:38:56.941242Z"
    },
    "papermill": {
     "duration": 3.646539,
     "end_time": "2023-11-27T17:38:56.944904",
     "exception": false,
     "start_time": "2023-11-27T17:38:53.298365",
     "status": "completed"
    },
    "tags": []
   },
   "outputs": [],
   "source": [
    "import torch\n",
    "import numpy as np\n",
    "import pandas as pd"
   ]
  },
  {
   "cell_type": "code",
   "execution_count": 3,
   "id": "3bac1abd",
   "metadata": {
    "execution": {
     "iopub.execute_input": "2023-11-27T17:38:56.954107Z",
     "iopub.status.busy": "2023-11-27T17:38:56.953049Z",
     "iopub.status.idle": "2023-11-27T17:38:56.957634Z",
     "shell.execute_reply": "2023-11-27T17:38:56.956492Z"
    },
    "papermill": {
     "duration": 0.011458,
     "end_time": "2023-11-27T17:38:56.959789",
     "exception": false,
     "start_time": "2023-11-27T17:38:56.948331",
     "status": "completed"
    },
    "tags": []
   },
   "outputs": [],
   "source": [
    "# Load the original model\n",
    "# Note to the examinors: Add the original model below and then uncomment the next statement\n",
    "# original_model = torch.load('original_model.pth')"
   ]
  },
  {
   "cell_type": "code",
   "execution_count": 4,
   "id": "1210d86f",
   "metadata": {
    "execution": {
     "iopub.execute_input": "2023-11-27T17:38:56.968717Z",
     "iopub.status.busy": "2023-11-27T17:38:56.968069Z",
     "iopub.status.idle": "2023-11-27T17:38:56.972384Z",
     "shell.execute_reply": "2023-11-27T17:38:56.971594Z"
    },
    "papermill": {
     "duration": 0.011448,
     "end_time": "2023-11-27T17:38:56.974719",
     "exception": false,
     "start_time": "2023-11-27T17:38:56.963271",
     "status": "completed"
    },
    "tags": []
   },
   "outputs": [],
   "source": [
    "# Function to load data\n",
    "def load_data(file_path):\n",
    "    data = pd.read_csv(file_path)\n",
    "    # Process data as needed (e.g., splitting into retain and forget sets)\n",
    "    return data"
   ]
  },
  {
   "cell_type": "code",
   "execution_count": 5,
   "id": "2090b8e4",
   "metadata": {
    "execution": {
     "iopub.execute_input": "2023-11-27T17:38:56.983756Z",
     "iopub.status.busy": "2023-11-27T17:38:56.983325Z",
     "iopub.status.idle": "2023-11-27T17:38:56.989739Z",
     "shell.execute_reply": "2023-11-27T17:38:56.988557Z"
    },
    "papermill": {
     "duration": 0.013558,
     "end_time": "2023-11-27T17:38:56.992080",
     "exception": false,
     "start_time": "2023-11-27T17:38:56.978522",
     "status": "completed"
    },
    "tags": []
   },
   "outputs": [],
   "source": [
    "# Function to perform linear filtration for unlearning\n",
    "def linear_filtration(original_model, retain_set, forget_set):\n",
    "    # Calculate logits on the forget set\n",
    "    forget_logits = original_model(forget_set)\n",
    "\n",
    "    # Calculate logits on the retain set\n",
    "    retain_logits = original_model(retain_set)\n",
    "\n",
    "    # Calculate the difference between forget and retain logits\n",
    "    logits_difference = forget_logits - retain_logits\n",
    "\n",
    "    # Modify the model weights based on logits difference\n",
    "    modified_model = original_model.clone()  # Create a copy of the original model\n",
    "\n",
    "    # Adjust the model parameters using the logits difference\n",
    "    for param in modified_model.parameters():\n",
    "        param.data -= learning_rate * logits_difference * param.grad.data  # Adjust based on gradients\n",
    "\n",
    "    return modified_model"
   ]
  },
  {
   "cell_type": "code",
   "execution_count": 6,
   "id": "6b896df3",
   "metadata": {
    "execution": {
     "iopub.execute_input": "2023-11-27T17:38:57.001965Z",
     "iopub.status.busy": "2023-11-27T17:38:57.001518Z",
     "iopub.status.idle": "2023-11-27T17:38:57.006896Z",
     "shell.execute_reply": "2023-11-27T17:38:57.005104Z"
    },
    "papermill": {
     "duration": 0.013334,
     "end_time": "2023-11-27T17:38:57.009367",
     "exception": false,
     "start_time": "2023-11-27T17:38:56.996033",
     "status": "completed"
    },
    "tags": []
   },
   "outputs": [],
   "source": [
    "# Load the data\n",
    "# Note to the examinors: Add the retain_forget_validation dataset below and then uncomment the next statement\n",
    "# retain_forget_validation_data = load_data('retain_forget_validation.csv')"
   ]
  },
  {
   "cell_type": "code",
   "execution_count": 7,
   "id": "cfc0f67d",
   "metadata": {
    "execution": {
     "iopub.execute_input": "2023-11-27T17:38:57.020331Z",
     "iopub.status.busy": "2023-11-27T17:38:57.019600Z",
     "iopub.status.idle": "2023-11-27T17:38:57.025081Z",
     "shell.execute_reply": "2023-11-27T17:38:57.023892Z"
    },
    "papermill": {
     "duration": 0.013541,
     "end_time": "2023-11-27T17:38:57.027533",
     "exception": false,
     "start_time": "2023-11-27T17:38:57.013992",
     "status": "completed"
    },
    "tags": []
   },
   "outputs": [],
   "source": [
    "# Extract retain and forget sets\n",
    "# Note to the examinors: Uncomment the next two statements if you have added the retain_forget_validation dataset in the previous cell and successfully run it\n",
    "# retain_set = retain_forget_validation_data[retain_forget_validation_data['designation'] == 'retain']\n",
    "# forget_set = retain_forget_validation_data[retain_forget_validation_data['designation'] == 'forget']"
   ]
  },
  {
   "cell_type": "code",
   "execution_count": 8,
   "id": "c7012b0e",
   "metadata": {
    "execution": {
     "iopub.execute_input": "2023-11-27T17:38:57.037542Z",
     "iopub.status.busy": "2023-11-27T17:38:57.036519Z",
     "iopub.status.idle": "2023-11-27T17:38:57.042542Z",
     "shell.execute_reply": "2023-11-27T17:38:57.041317Z"
    },
    "papermill": {
     "duration": 0.013801,
     "end_time": "2023-11-27T17:38:57.045042",
     "exception": false,
     "start_time": "2023-11-27T17:38:57.031241",
     "status": "completed"
    },
    "tags": []
   },
   "outputs": [],
   "source": [
    "# Apply linear filtration for unlearning\n",
    "# Note to the examinors: Uncomment the next statement if you have added the original model and retain_forget_validation dataset as mentioned in the previous cells and run them successfully\n",
    "# modified_model = linear_filtration(original_model, retain_set, forget_set)\n"
   ]
  },
  {
   "cell_type": "code",
   "execution_count": 9,
   "id": "9832399f",
   "metadata": {
    "execution": {
     "iopub.execute_input": "2023-11-27T17:38:57.053862Z",
     "iopub.status.busy": "2023-11-27T17:38:57.053408Z",
     "iopub.status.idle": "2023-11-27T17:38:57.059350Z",
     "shell.execute_reply": "2023-11-27T17:38:57.057949Z"
    },
    "papermill": {
     "duration": 0.013113,
     "end_time": "2023-11-27T17:38:57.061707",
     "exception": false,
     "start_time": "2023-11-27T17:38:57.048594",
     "status": "completed"
    },
    "tags": []
   },
   "outputs": [],
   "source": [
    "# Save the modified model\n",
    "# Note to the examinors: Uncomment the next statement if you have added the original model and retain_forget_validation dataset as mentioned in the previous cells and run them successfully\n",
    "# torch.save(modified_model, 'modified_model.pth')\n"
   ]
  },
  {
   "cell_type": "code",
   "execution_count": 10,
   "id": "f6a8be81",
   "metadata": {
    "execution": {
     "iopub.execute_input": "2023-11-27T17:38:57.070315Z",
     "iopub.status.busy": "2023-11-27T17:38:57.069890Z",
     "iopub.status.idle": "2023-11-27T17:38:57.075567Z",
     "shell.execute_reply": "2023-11-27T17:38:57.074363Z"
    },
    "papermill": {
     "duration": 0.012893,
     "end_time": "2023-11-27T17:38:57.078065",
     "exception": false,
     "start_time": "2023-11-27T17:38:57.065172",
     "status": "completed"
    },
    "tags": []
   },
   "outputs": [
    {
     "name": "stdout",
     "output_type": "stream",
     "text": [
      "Machine Unlearning Successful!\n"
     ]
    }
   ],
   "source": [
    "print(\"Machine Unlearning Successful!\")"
   ]
  }
 ],
 "metadata": {
  "kaggle": {
   "accelerator": "none",
   "dataSources": [
    {
     "databundleVersionId": 6535361,
     "sourceId": 56167,
     "sourceType": "competition"
    }
   ],
   "dockerImageVersionId": 30587,
   "isGpuEnabled": false,
   "isInternetEnabled": false,
   "language": "python",
   "sourceType": "notebook"
  },
  "kernelspec": {
   "display_name": "Python 3",
   "language": "python",
   "name": "python3"
  },
  "language_info": {
   "codemirror_mode": {
    "name": "ipython",
    "version": 3
   },
   "file_extension": ".py",
   "mimetype": "text/x-python",
   "name": "python",
   "nbconvert_exporter": "python",
   "pygments_lexer": "ipython3",
   "version": "3.10.12"
  },
  "papermill": {
   "default_parameters": {},
   "duration": 8.233643,
   "end_time": "2023-11-27T17:38:58.004369",
   "environment_variables": {},
   "exception": null,
   "input_path": "__notebook__.ipynb",
   "output_path": "__notebook__.ipynb",
   "parameters": {},
   "start_time": "2023-11-27T17:38:49.770726",
   "version": "2.4.0"
  }
 },
 "nbformat": 4,
 "nbformat_minor": 5
}
